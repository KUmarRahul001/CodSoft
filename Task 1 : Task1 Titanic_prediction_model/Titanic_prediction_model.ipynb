{
  "cells": [
    {
      "cell_type": "code",
      "execution_count": null,
      "id": "74283e7e-607d-4f11-8aee-aadc651c1ac1",
      "metadata": {
        "id": "74283e7e-607d-4f11-8aee-aadc651c1ac1"
      },
      "outputs": [],
      "source": []
    },
    {
      "cell_type": "markdown",
      "id": "3c81999a-2b80-4d57-8819-b7edd0fa95f4",
      "metadata": {
        "id": "3c81999a-2b80-4d57-8819-b7edd0fa95f4"
      },
      "source": [
        "# Titanic Survival Prediction\n",
        "\n",
        "---\n",
        "\n",
        "## Author Information\n",
        "\n",
        "- **Author**: Rahul Kumar\n",
        "- **Batch**: March - April\n",
        "- **Domain**: Data Science\n",
        "\n",
        "---\n",
        "\n",
        "## Task Information\n",
        "\n",
        "- **Task**: TITANIC SURVIVAL PREDICTION\n",
        "- **Description**: Use the Titanic dataset to build a model that predicts whether a passenger on the Titanic survived or not.\n",
        "\n",
        "---\n",
        "\n",
        "## Introduction\n",
        "\n",
        "The sinking of the RMS Titanic is one of the most infamous tragedies in maritime history. This project aims to delve into the Titanic dataset and develop a predictive model that can determine the likelihood of a passenger surviving the disaster based on various features such as age, gender, ticket class, and more.\n",
        "\n",
        "---"
      ]
    },
    {
      "cell_type": "code",
      "execution_count": null,
      "id": "be53da0b-9294-4716-8ff5-5565f77a10c1",
      "metadata": {
        "id": "be53da0b-9294-4716-8ff5-5565f77a10c1"
      },
      "outputs": [],
      "source": [
        "## Data Exploration\n",
        "\n",
        "### Loading and Overview of the Dataset\n",
        "\n",
        "\n",
        "import pandas as pd\n",
        "\n",
        "# Load the Titanic dataset\n",
        "titanic_data = pd.read_csv(\"tested.csv\")\n",
        "\n",
        "# Display the first few rows of the dataset\n",
        "titanic_data.head()"
      ]
    },
    {
      "cell_type": "markdown",
      "id": "22554f33-f0d4-4657-977e-6e7f9fd15de4",
      "metadata": {
        "id": "22554f33-f0d4-4657-977e-6e7f9fd15de4"
      },
      "source": [
        "# Data Summary and Missing Values\n"
      ]
    },
    {
      "cell_type": "code",
      "execution_count": null,
      "id": "37f8115f-ad5f-4a93-9444-c1b8bd7303c4",
      "metadata": {
        "id": "37f8115f-ad5f-4a93-9444-c1b8bd7303c4"
      },
      "outputs": [],
      "source": [
        "# Summary of the dataset\n",
        "titanic_data.info()\n",
        "\n",
        "# Check for missing values\n",
        "missing_values = titanic_data.isnull().sum()\n",
        "missing_percentage = (missing_values / len(titanic_data)) * 100\n",
        "missing_info = pd.DataFrame({'Missing Values': missing_values, 'Percentage': missing_percentage})\n",
        "print(missing_info)\n"
      ]
    },
    {
      "cell_type": "markdown",
      "id": "4e8cedf7-e73c-4cfc-91b5-98a71777a5c9",
      "metadata": {
        "id": "4e8cedf7-e73c-4cfc-91b5-98a71777a5c9"
      },
      "source": [
        "# Data Visualization\n"
      ]
    },
    {
      "cell_type": "code",
      "execution_count": null,
      "id": "bbd14551-95f4-4d6b-94fc-123907d5e950",
      "metadata": {
        "id": "bbd14551-95f4-4d6b-94fc-123907d5e950"
      },
      "outputs": [],
      "source": [
        "import matplotlib.pyplot as plt\n",
        "import seaborn as sns\n",
        "\n",
        "# Count of survival\n",
        "plt.figure(figsize=(8, 6))\n",
        "sns.countplot(data=titanic_data, x='Survived')\n",
        "plt.title('Survival Count')\n",
        "plt.show()\n"
      ]
    },
    {
      "cell_type": "markdown",
      "id": "c292f23b-92b6-4865-b664-b6ff810b95b8",
      "metadata": {
        "id": "c292f23b-92b6-4865-b664-b6ff810b95b8"
      },
      "source": [
        "# Data Preprocessing\n",
        "# Handling Missing Values"
      ]
    },
    {
      "cell_type": "code",
      "execution_count": null,
      "id": "417dd832-7871-431c-994a-3f4fe9bf59ea",
      "metadata": {
        "id": "417dd832-7871-431c-994a-3f4fe9bf59ea"
      },
      "outputs": [],
      "source": [
        "# Impute missing values for 'Age' and 'Embarked'\n",
        "titanic_data['Age'] = titanic_data['Age'].fillna(titanic_data['Age'].median())\n",
        "titanic_data['Embarked'] = titanic_data['Embarked'].fillna(titanic_data['Embarked'].mode()[0])\n",
        "\n",
        "# Drop unnecessary columns\n",
        "titanic_data.drop(columns=\"Cabin\", inplace=True)\n"
      ]
    },
    {
      "cell_type": "markdown",
      "id": "8f236524-2ca1-4037-ad62-d12b70182ded",
      "metadata": {
        "id": "8f236524-2ca1-4037-ad62-d12b70182ded"
      },
      "source": [
        "# Feature Engineering\n",
        "# Encoding Categorical Variables"
      ]
    },
    {
      "cell_type": "code",
      "execution_count": null,
      "id": "8e51354e-3938-41bb-8fdc-1249028d4cc8",
      "metadata": {
        "id": "8e51354e-3938-41bb-8fdc-1249028d4cc8"
      },
      "outputs": [],
      "source": [
        "from sklearn.preprocessing import LabelEncoder\n",
        "\n",
        "# Encode 'Sex' feature\n",
        "labelencoder = LabelEncoder()\n",
        "titanic_data['Sex'] = labelencoder.fit_transform(titanic_data['Sex'])\n"
      ]
    },
    {
      "cell_type": "markdown",
      "id": "1c7ef85a-0a05-4c71-9859-d8b25b36db9c",
      "metadata": {
        "id": "1c7ef85a-0a05-4c71-9859-d8b25b36db9c"
      },
      "source": [
        " # Feature Selection\n"
      ]
    },
    {
      "cell_type": "code",
      "execution_count": null,
      "id": "af93f1d6-a0df-47da-b066-36ddc1454cff",
      "metadata": {
        "id": "af93f1d6-a0df-47da-b066-36ddc1454cff"
      },
      "outputs": [],
      "source": [
        "# Drop irrelevant columns\n",
        "titanic_data.drop(columns=[\"PassengerId\", \"Name\", \"SibSp\", \"Parch\", \"Ticket\", \"Fare\"], inplace=True)\n"
      ]
    },
    {
      "cell_type": "markdown",
      "id": "6c97a482-394c-4fec-b5ee-da9e3d35b52b",
      "metadata": {
        "id": "6c97a482-394c-4fec-b5ee-da9e3d35b52b"
      },
      "source": [
        "# Modeling\n",
        "# Splitting Data"
      ]
    },
    {
      "cell_type": "code",
      "execution_count": null,
      "id": "bbceac89-aca3-4499-b5db-9ce4fae5c767",
      "metadata": {
        "id": "bbceac89-aca3-4499-b5db-9ce4fae5c767"
      },
      "outputs": [],
      "source": [
        "from sklearn.model_selection import train_test_split\n",
        "\n",
        "# Splitting data into features and target variable\n",
        "X = titanic_data.drop(columns=['Survived'])\n",
        "y = titanic_data['Survived']\n",
        "\n",
        "# Splitting data into train and test sets\n",
        "X_train, X_test, y_train, y_test = train_test_split(X, y, test_size=0.2, random_state=42)\n"
      ]
    },
    {
      "cell_type": "markdown",
      "id": "a7685562-e33f-4861-b1b9-ad985d0ff401",
      "metadata": {
        "id": "a7685562-e33f-4861-b1b9-ad985d0ff401"
      },
      "source": [
        "# Model Training and Evaluation\n",
        "\n",
        "---\n",
        "\n",
        "\n",
        "# Predicting Passenger Survival\n",
        "\n",
        "## Introduction\n",
        "\n",
        "In this section, we will predict whether a passenger survived or not using a logistic regression model. We'll handle warnings, create the model, fit it with the training data, and make predictions for a given set of features.\n",
        "\n",
        "---\n"
      ]
    },
    {
      "cell_type": "code",
      "execution_count": null,
      "id": "673e2520-2c36-4830-abf7-4521a1ea551a",
      "metadata": {
        "id": "673e2520-2c36-4830-abf7-4521a1ea551a"
      },
      "outputs": [],
      "source": [
        "# Importing necessary libraries\n",
        "import warnings\n",
        "import pandas as pd\n",
        "from sklearn.compose import ColumnTransformer\n",
        "from sklearn.preprocessing import OneHotEncoder\n",
        "from sklearn.linear_model import LogisticRegression\n",
        "from sklearn.metrics import accuracy_score, confusion_matrix\n",
        "\n",
        "# Ignore warnings to keep the output clean\n",
        "warnings.filterwarnings(\"ignore\")\n",
        "\n",
        "# Define columns to be one-hot encoded\n",
        "categorical_cols = ['Embarked']\n",
        "\n",
        "# Create a column transformer\n",
        "ct = ColumnTransformer(transformers=[('encoder', OneHotEncoder(), categorical_cols)], remainder='passthrough')\n",
        "\n",
        "# Fit the transformer and transform the training and test data\n",
        "X_train_encoded = ct.fit_transform(X_train)\n",
        "X_test_encoded = ct.transform(X_test)\n",
        "\n",
        "# Initialize and train logistic regression model\n",
        "log_reg = LogisticRegression(random_state=42)\n",
        "log_reg.fit(X_train_encoded, y_train)\n",
        "\n",
        "# Make predictions\n",
        "y_pred = log_reg.predict(X_test_encoded)\n",
        "\n",
        "# Evaluate model performance\n",
        "accuracy = accuracy_score(y_test, y_pred)\n",
        "conf_matrix = confusion_matrix(y_test, y_pred)\n",
        "print(f\"Accuracy: {accuracy}\")\n",
        "print(f\"Confusion Matrix:\\n {conf_matrix}\")\n",
        "\n",
        "# Predict the survival result for a given set of features\n",
        "predicted_result = log_reg.predict(X_test_encoded[:1])  # Considering the first row of the encoded test data\n",
        "\n",
        "# Display the prediction\n",
        "if predicted_result == 0:\n",
        "    print(\"Sorry, the passenger did not survive.\")\n",
        "else:\n",
        "    print(\"The passenger survived.\")\n"
      ]
    },
    {
      "cell_type": "markdown",
      "source": [
        "# Saving Report"
      ],
      "metadata": {
        "id": "CaDPoZXnfae-"
      },
      "id": "CaDPoZXnfae-"
    },
    {
      "cell_type": "code",
      "source": [
        "final = pd.DataFrame()\n",
        "final[\"Sex\"]= X['Sex']\n",
        "final[\"survived\"]=y_final\n",
        "\n",
        "final.to_csv(\"FinalReport.csv\",index=False)\n",
        "\n"
      ],
      "metadata": {
        "id": "PXY_quBiflmh"
      },
      "id": "PXY_quBiflmh",
      "execution_count": null,
      "outputs": []
    }
  ],
  "metadata": {
    "kernelspec": {
      "display_name": "Python 3 (ipykernel)",
      "language": "python",
      "name": "python3"
    },
    "language_info": {
      "codemirror_mode": {
        "name": "ipython",
        "version": 3
      },
      "file_extension": ".py",
      "mimetype": "text/x-python",
      "name": "python",
      "nbconvert_exporter": "python",
      "pygments_lexer": "ipython3",
      "version": "3.10.12"
    },
    "colab": {
      "provenance": []
    }
  },
  "nbformat": 4,
  "nbformat_minor": 5
}